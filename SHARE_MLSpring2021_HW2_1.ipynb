{
  "nbformat": 4,
  "nbformat_minor": 0,
  "metadata": {
    "accelerator": "GPU",
    "colab": {
      "provenance": [],
      "gpuType": "T4",
      "include_colab_link": true
    },
    "kernelspec": {
      "display_name": "Python 3",
      "name": "python3"
    }
  },
  "cells": [
    {
      "cell_type": "markdown",
      "metadata": {
        "id": "view-in-github",
        "colab_type": "text"
      },
      "source": [
        "<a href=\"https://colab.research.google.com/github/nassanea/ML2021/blob/main/SHARE_MLSpring2021_HW2_1.ipynb\" target=\"_parent\"><img src=\"https://colab.research.google.com/assets/colab-badge.svg\" alt=\"Open In Colab\"/></a>"
      ]
    },
    {
      "cell_type": "markdown",
      "metadata": {
        "id": "OYlaRwNu7ojq"
      },
      "source": [
        "# **Homework 2-1 Phoneme Classification**\n",
        "\n",
        "* Slides: https://speech.ee.ntu.edu.tw/~hylee/ml/ml2021-course-data/hw/HW02/HW02.pdf\n",
        "* Video (Chinese): https://youtu.be/PdjXnQbu2zo\n",
        "* Video (English): https://youtu.be/ESRr-VCykBs\n"
      ]
    },
    {
      "cell_type": "markdown",
      "metadata": {
        "id": "emUd7uS7crTz"
      },
      "source": [
        "## The DARPA TIMIT Acoustic-Phonetic Continuous Speech Corpus (TIMIT)\n",
        "The TIMIT corpus of reading speech has been designed to provide speech data for the acquisition of acoustic-phonetic knowledge and for the development and evaluation of automatic speech recognition systems.\n",
        "\n",
        "This homework is a multiclass classification task,\n",
        "we are going to train a deep neural network classifier to predict the phonemes for each frame from the speech corpus TIMIT.\n",
        "\n",
        "link: https://academictorrents.com/details/34e2b78745138186976cbc27939b1b34d18bd5b3"
      ]
    },
    {
      "cell_type": "markdown",
      "metadata": {
        "id": "KVUGfWTo7_Oj"
      },
      "source": [
        "## Download Data\n",
        "Download data from google drive, then unzip it.\n",
        "\n",
        "You should have `timit_11/train_11.npy`, `timit_11/train_label_11.npy`, and `timit_11/test_11.npy` after running this block.<br><br>\n",
        "`timit_11/`\n",
        "- `train_11.npy`: training data<br>\n",
        "- `train_label_11.npy`: training label<br>\n",
        "- `test_11.npy`:  testing data<br><br>\n",
        "\n",
        "**notes: if the google drive link is dead, you can download the data directly from Kaggle and upload it to the workspace**\n",
        "\n",
        "\n"
      ]
    },
    {
      "cell_type": "code",
      "metadata": {
        "colab": {
          "base_uri": "https://localhost:8080/"
        },
        "id": "OzkiMEcC3Foq",
        "outputId": "9cc49e00-cb9a-4441-de98-60bcb0aff8b0"
      },
      "source": [
        "# gdown ：從 google drive 下載檔案\n",
        "# --output data.zip ：把下載的檔案存為「data.zip」\n",
        "!gdown --id '1HPkcmQmFGu-3OknddKIa5dNDsR05lIQR' --output data.zip\n",
        "# 解壓縮 data.zip\n",
        "!unzip data.zip\n",
        "# 列出資料夾內容\n",
        "!ls"
      ],
      "execution_count": null,
      "outputs": [
        {
          "output_type": "stream",
          "name": "stdout",
          "text": [
            "/usr/local/lib/python3.11/dist-packages/gdown/__main__.py:140: FutureWarning: Option `--id` was deprecated in version 4.3.1 and will be removed in 5.0. You don't need to pass it anymore to use a file ID.\n",
            "  warnings.warn(\n",
            "Downloading...\n",
            "From (original): https://drive.google.com/uc?id=1HPkcmQmFGu-3OknddKIa5dNDsR05lIQR\n",
            "From (redirected): https://drive.google.com/uc?id=1HPkcmQmFGu-3OknddKIa5dNDsR05lIQR&confirm=t&uuid=1a103917-7384-4985-beca-238f5d6a49ff\n",
            "To: /content/data.zip\n",
            "100% 372M/372M [00:06<00:00, 60.9MB/s]\n",
            "Archive:  data.zip\n",
            "   creating: timit_11/\n",
            "  inflating: timit_11/train_11.npy   \n",
            "  inflating: timit_11/test_11.npy    \n",
            "  inflating: timit_11/train_label_11.npy  \n",
            "data.zip  sample_data  timit_11\n"
          ]
        }
      ]
    },
    {
      "cell_type": "markdown",
      "metadata": {
        "id": "_L_4anls8Drv"
      },
      "source": [
        "## Preparing Data\n",
        "Load the training and testing data from the `.npy` file (NumPy array)."
      ]
    },
    {
      "cell_type": "code",
      "metadata": {
        "colab": {
          "base_uri": "https://localhost:8080/"
        },
        "id": "IJjLT8em-y9G",
        "outputId": "bcd98483-8e53-42d1-8ba9-8f9837831b16"
      },
      "source": [
        "import numpy as np\n",
        "\n",
        "print('Loading data ...')\n",
        "\n",
        "data_root='./timit_11/' # 設定資料夾路徑\n",
        "# np.load() 是用來讀取資料的函數，讀取 .npy / .npz 的檔案，並還原成 NumPy 陣列格式，此函數的參數是「檔案路徑」\n",
        "# 故「data_root + 'train_11.npy'」就是訓練資料的檔案路徑\n",
        "# 下方訓練資料的label 以及測試資料也是如此\n",
        "train = np.load(data_root + 'train_11.npy')\n",
        "train_label = np.load(data_root + 'train_label_11.npy')\n",
        "test = np.load(data_root + 'test_11.npy')\n",
        "\n",
        "\n",
        "# 助教寫法，用 format()印出\n",
        "# print('Size of training data: {}'.format(train.shape)) # 表示訓練資料有 1229932 筆，429 個欄位（1229932 x 429 的表格）\n",
        "# print('Size of testing data: {}'.format(test.shape)) # 測試資料有 451552 筆，429 個欄位\n",
        "\n",
        "# 改用 f-string 印出\n",
        "print(f\"Size of training data: {train.shape}\") # 表示訓練資料有 1229932 筆，429 個欄位（1229932 x 429 的表格）\n",
        "print(f\"Size of testing data: {test.shape}\") # 測試資料有 451552 筆，429 個欄位"
      ],
      "execution_count": null,
      "outputs": [
        {
          "output_type": "stream",
          "name": "stdout",
          "text": [
            "Loading data ...\n",
            "Size of training data: (1229932, 429)\n",
            "Size of testing data: (451552, 429)\n"
          ]
        }
      ]
    },
    {
      "cell_type": "markdown",
      "metadata": {
        "id": "us5XW_x6udZQ"
      },
      "source": [
        "## Create Dataset\n",
        "\n",
        "用 PyTorch 建立自訂的 Dataset 類別，以便用 DataLoader 載入資料"
      ]
    },
    {
      "cell_type": "code",
      "metadata": {
        "id": "Fjf5EcmJtf4e"
      },
      "source": [
        "import torch\n",
        "# torch.utils.data 是 PyTorch 裡專門處理資料載入和管理的工具包\n",
        "# 主要功能包含：\n",
        "# 1. Dataset：定義資料集格式，方便統一接口取得資料和標籤。（torch.utils.data.Dataset 是一個抽象類別，沒有定義屬性）\n",
        "# 2. DataLoader：搭配 Dataset 使用，實現資料批次載入、隨機打散（shuffle）、多線程讀取等功能。\n",
        "# 3. Sampler：控制資料的取樣順序，比如隨機或序列取樣。\n",
        "from torch.utils.data import Dataset\n",
        "\n",
        "\n",
        "# 定義 TIMITDataset 類別，並繼承自 Dataset\n",
        "class TIMITDataset(Dataset):\n",
        "    # 定義建構子，X 是輸入資料（特徵矩陣），y 是標籤，預設可不給（None）\n",
        "    # 作用：讓資料可以是有標籤的訓練集或沒標籤的測試集\n",
        "    def __init__(self, X, y=None): # 補：self 是 TIMITDataset 這個物件本身\n",
        "        # 把輸入資料 X 存入 此 TIMITDataset 物件的 data 屬性中\n",
        "        # 存入前會先轉換成 Tensor 型態並且轉成 float 型態\n",
        "        # torch.from_numpy() 是把 NumPy 資料轉成 PyTorch 能接受的 Tensor\n",
        "        self.data = torch.from_numpy(X).float()\n",
        "        if y is not None: # 訓練階段\n",
        "            # .astpye() 是 NumPy 提供的型態轉換方法\n",
        "            # 先把 y 轉換成 int64 型態以確保資料型態一致\n",
        "            y = y.astype(np.int64) # 根據版本更新把 np.int 改為 np.int64\n",
        "            # 再把 y 轉換成 Tensor 格式，然後 assign 給 此 TIMITDataset 物件的 label 屬性中\n",
        "            # torch.LongTensor() 一律轉成 torch.int64 （即 LongTensor）型態\n",
        "            self.label = torch.LongTensor(y)\n",
        "        else: # 測試階段\n",
        "            self.label = None\n",
        "\n",
        "    # 繼承 Dataset 後，必須實作的方法\n",
        "    # 會透過此方法一筆筆取出資料\n",
        "    def __getitem__(self, idx):\n",
        "        if self.label is not None: # 訓練階段（有標籤）\n",
        "            # 回傳資料是第 idx 筆＆其對應的標籤\n",
        "            return self.data[idx], self.label[idx]\n",
        "        else:\n",
        "            return self.data[idx]\n",
        "\n",
        "    # 繼承 Dataset 後，必須實作的方法\n",
        "    # DataLoader 在切 batch 時會用到此方法\n",
        "    def __len__(self):\n",
        "        # 回傳資料筆數\n",
        "        return len(self.data)\n"
      ],
      "execution_count": null,
      "outputs": []
    },
    {
      "cell_type": "markdown",
      "metadata": {
        "id": "otIC6WhGeh9v"
      },
      "source": [
        "Split the labeled data into a training set and a validation set, you can modify the variable `VAL_RATIO` to change the ratio of validation data.\n",
        "\n",
        "把訓練資料切分成訓練資料集＆驗證資料集"
      ]
    },
    {
      "cell_type": "code",
      "metadata": {
        "colab": {
          "base_uri": "https://localhost:8080/"
        },
        "id": "sYqi_lAuvC59",
        "outputId": "c13e82f9-5b21-4136-c8cd-cf6ed694f63c"
      },
      "source": [
        "# 驗證資料集的比例\n",
        "VAL_RATIO = 0.2 # 可以做修改比例\n",
        "\n",
        "# 複習：shape() 會回傳 tuple，即（行數x列數）的資料\n",
        "# 所以 shape[0] 就是行數，可以理解為資料的筆數；shape[1] 就是列數（欄位數；特徵數）\n",
        "percent = int(train.shape[0] * (1 - VAL_RATIO)) # 即 訓練資料總筆數 x 0.8 ，再轉換成 int 型態\n",
        "\n",
        "# 同時 assign 多個變數\n",
        "# 切片語法：常用於取出部分資料\n",
        "# train[:percent] 指的是 -> 取出第 0 筆到第 percent-1 筆（前 N 筆資料）\n",
        "# train[percent:] 指的是 -> 從第 percent 筆到最後（後 N 筆資料）\n",
        "# 所以下面是在切分訓練資料和驗證資料\n",
        "train_x, train_y, val_x, val_y = train[:percent], train_label[:percent], train[percent:], train_label[percent:]\n",
        "\n",
        "# 實際印出訓練資料和驗證資料的資料筆數\n",
        "print(f'Size of training set: {train_x.shape}')\n",
        "print(f'Size of validation set: {val_x.shape}')"
      ],
      "execution_count": null,
      "outputs": [
        {
          "output_type": "stream",
          "name": "stdout",
          "text": [
            "Size of training set: (983945, 429)\n",
            "Size of validation set: (245987, 429)\n"
          ]
        }
      ]
    },
    {
      "cell_type": "markdown",
      "metadata": {
        "id": "nbCfclUIgMTX"
      },
      "source": [
        "Create a data loader from the dataset, feel free to tweak the variable `BATCH_SIZE` here."
      ]
    },
    {
      "cell_type": "code",
      "metadata": {
        "id": "RUCbQvqJurYc"
      },
      "source": [
        "# 設定每次訓練資料的筆數，每次看一個 batch 的量\n",
        "BATCH_SIZE = 32\n",
        "\n",
        "# 引入 DataLoarder，搭配 Dataset 使用，實現資料批次載入、隨機打散（shuffle）、多線程讀取等功能。\n",
        "# 剛剛的 create Dataset 就是 DataLoader 的前置處理作業\n",
        "from torch.utils.data import DataLoader\n",
        "\n",
        "# new 一個 TIMITDataset 物件出來，傳入訓練資料以及其對應的訓練資料標籤，並 assign 給 訓練集\n",
        "# 如此就擁有一個可以透過 __getitem__() 按 index 取出 (x, y) 的資料集\n",
        "train_set = TIMITDataset(train_x, train_y)\n",
        "# new 一個 TIMITDataset 物件出來，傳入驗證資料以及其對應的驗證資料標籤，並 assign 給 驗證集\n",
        "val_set = TIMITDataset(val_x, val_y)\n",
        "\n",
        "\n",
        "# 理解 DataLoader：DataLoader 是工廠生產線\n",
        "# 按照你的設定（batch size、shuffle、num_workers）去批量生產資料「包裹（batch）」，一次交給模型。\n",
        "# 按照設定好的 batch size 切分資料，製作成 DataLoader 以便後續訓練\n",
        "# train_loader 會設定每個 epoch 都打亂一次資料\n",
        "train_loader = DataLoader(train_set, batch_size=BATCH_SIZE, shuffle=True) #only shuffle the training data\n",
        "# 通常驗證資料不會打亂資料，如同測試階段不會打亂資料一樣，是避免增加複雜度\n",
        "# 驗證不需要隨機性，只要固定測效果\n",
        "val_loader = DataLoader(val_set, batch_size=BATCH_SIZE, shuffle=False)"
      ],
      "execution_count": null,
      "outputs": []
    },
    {
      "cell_type": "markdown",
      "metadata": {
        "id": "_SY7X0lUgb50"
      },
      "source": [
        "Cleanup the unneeded variables to save memory.<br>\n",
        "\n",
        "**notes: if you need to use these variables later, then you may remove this block or clean up unneeded variables later<br>the data size is quite huge, so be aware of memory usage in colab**"
      ]
    },
    {
      "cell_type": "code",
      "metadata": {
        "colab": {
          "base_uri": "https://localhost:8080/"
        },
        "id": "y8rzkGraeYeN",
        "outputId": "33f579fa-bfc4-4b92-df6a-ed7d3e2b04d9"
      },
      "source": [
        "import gc # gc: garbage collector -> 清除用不到的變數\n",
        "\n",
        "# 刪除變數引用，因為所需要用於訓練和驗證的資料都存在 train_loader & val_loader 裡面\n",
        "# 不需要再用到這些變數了，可以清除\n",
        "del train, train_label, train_x, train_y, val_x, val_y\n",
        "# 強制執行垃圾回收\n",
        "# 剛剛 del 掉的資料中，如果沒有其他地方還在引用，就會真的從記憶體中移除\n",
        "gc.collect()"
      ],
      "execution_count": null,
      "outputs": [
        {
          "output_type": "execute_result",
          "data": {
            "text/plain": [
              "30"
            ]
          },
          "metadata": {},
          "execution_count": 6
        }
      ]
    },
    {
      "cell_type": "markdown",
      "metadata": {
        "id": "IRqKNvNZwe3V"
      },
      "source": [
        "## Create Model"
      ]
    },
    {
      "cell_type": "markdown",
      "metadata": {
        "id": "FYr1ng5fh9pA"
      },
      "source": [
        "Define model architecture, you are encouraged to change and experiment with the model architecture."
      ]
    },
    {
      "cell_type": "code",
      "metadata": {
        "id": "lbZrwT6Ny0XL"
      },
      "source": [
        "import torch\n",
        "import torch.nn as nn # torch.nn 是 PyTorch 中負責定義神經網路層和結構的模組\n",
        "\n",
        "# 定義 Classifier 類別，繼承 nn.Model （通常都會繼承）\n",
        "# 因為 nn.Module 是 PyTorch 中所有模型的基底類別（base class），其提供很多底層必要功能（否則就要自己實作）\n",
        "class Classifier(nn.Module):\n",
        "    # 定義建構子，用於初始化 model 的 layer 和參數\n",
        "    def __init__(self):\n",
        "        # 呼叫父類別建構子\n",
        "        super(Classifier, self).__init__()\n",
        "        # 開始定義模型：四層 FC (Linear Layers 就是 Fully Connected) 每一個輸入節點都連接到每一個輸出節點\n",
        "        # nn.Linear(in_features, out_features)，network 會學一個 in(x) × out(y) 的權重矩陣，還有一個偏差向量（bias）\n",
        "        # 疊幾層、維度多少也是一個超參數了，常見設計原則是維度逐漸減少\n",
        "        # self.layer1 = nn.Linear(429, 1024) # 輸入 429 維度；輸出 1024 維度\n",
        "        # self.layer2 = nn.Linear(1024, 512) # 輸入 1024 維度；輸出(降維)成 512 維度\n",
        "        # 調整維度，降低模型複雜度\n",
        "        self.layer1 = nn.Linear(429, 512)\n",
        "        self.layer2 = nn.Linear(512, 256)\n",
        "        self.layer3 = nn.Linear(256, 128)\n",
        "        self.layer4 = nn.Linear(128, 64)  # 新增\n",
        "\n",
        "        # 最終輸出 39 維度，代表 39 個類別（到最後就是分類分39類，0~38），這是任務決定的輸出維度\n",
        "        # Classifier 類別定義了 .out 屬性（輸出層 out_layer）\n",
        "        self.out = nn.Linear(64, 39)\n",
        "\n",
        "        # 定義激勵函數(activation function)，並使用 Sigmoid 當激勵函數，換轉換輸出資料成0~1之間\n",
        "        self.act_fn = nn.ReLU()\n",
        "\n",
        "        # 設定 Drouput ，通常放在激勵函數後\n",
        "        self.dropout = nn.Dropout(0.2) # 30% 的神經元會被隨機關閉\n",
        "\n",
        "        # 加入 BatchNorm\n",
        "        self.bn1 = nn.BatchNorm1d(512) # 要對應 layer1 的輸出維度\n",
        "        self.bn2 = nn.BatchNorm1d(256)\n",
        "        self.bn3 = nn.BatchNorm1d(128)\n",
        "        self.bn4 = nn.BatchNorm1d(64)\n",
        "\n",
        "    # 繼承 nn.Module 所以一定要實作 forward() 方法\n",
        "    # 定義輸入資料要怎麼經過層層處理，最後得到輸出\n",
        "    # => 實際上是由 forward 裡面的順序實際定義 輸入資料x 是以怎麼樣的順序通過 model 的（上面的 __init__() 並不會決定 model 的疊加順序，而是 forward 決定）\n",
        "    # __init__() 是用來「定義好會用到的層」，就像建好材料。\n",
        "    # forward() 是用來「決定這些層怎麼接起來用、用的順序是什麼」，就像建好流程圖\n",
        "    # 此處定義輸入資料 x 會經過每一層 FC 後，都通過一次 Sigmoid\n",
        "    def forward(self, x):\n",
        "        # Linear → BatchNorm → ReLU → Dropout\n",
        "        x = self.layer1(x)\n",
        "        x = self.bn1(x)\n",
        "        x = self.act_fn(x)\n",
        "        x = self.dropout(x)\n",
        "\n",
        "        x = self.layer2(x)\n",
        "        x = self.bn2(x)\n",
        "        x = self.act_fn(x)\n",
        "        x = self.dropout(x)\n",
        "\n",
        "        x = self.layer3(x)\n",
        "        x = self.bn3(x)\n",
        "        x = self.act_fn(x)\n",
        "        x = self.dropout(x)\n",
        "\n",
        "        # 新增的 layer4\n",
        "        x = self.layer4(x)\n",
        "        x = self.bn4(x)\n",
        "        x = self.act_fn(x)\n",
        "        x = self.dropout(x)\n",
        "\n",
        "\n",
        "        # 最後一個輸出層不套激勵函數，是因為分類任務通常使用 CrossEntropy 計算 Loss，這時會自動做 softmax，所以不用再加激勵函數\n",
        "        x = self.out(x)\n",
        "        return x"
      ],
      "execution_count": null,
      "outputs": []
    },
    {
      "cell_type": "markdown",
      "metadata": {
        "id": "VRYciXZvPbYh"
      },
      "source": [
        "## Training"
      ]
    },
    {
      "cell_type": "code",
      "metadata": {
        "id": "y114Vmm3Ja6o"
      },
      "source": [
        "#check device 檢查運算裝置\n",
        "# 定義方法來檢查運算裝置\n",
        "def get_device():\n",
        "  # 語法是三元運算子\n",
        "  # torch.cuda.is_available() 是 PyTorch 提供的方法，檢查目前環境是否可以使用 NVIDIA 的 GPU（還有其他方法）\n",
        "  return 'cuda' if torch.cuda.is_available() else 'cpu'"
      ],
      "execution_count": null,
      "outputs": []
    },
    {
      "cell_type": "markdown",
      "metadata": {
        "id": "sEX-yjHjhGuH"
      },
      "source": [
        "Fix random seeds for reproducibility.\n",
        "\n",
        "目的是為訓練過程的隨機固定性"
      ]
    },
    {
      "cell_type": "code",
      "metadata": {
        "id": "88xPiUnm0tAd"
      },
      "source": [
        "# fix random seed\n",
        "# 隨機種子的作用是固定模型訓練過程中所產生的隨機數，從而在對所描述模型進行複現的時候可以最大程度地逼近描述效果。\n",
        "# reference: https://zhuanlan.zhihu.com/p/545344518\n",
        "def same_seeds(seed): # 此 Seed 是要設定的隨機種子，用以控制所有隨機過程的起始點\n",
        "    # torch.manual_seed() 用於設定 PyTorch 設定 CPU 的隨機數生成器的種子值\n",
        "    torch.manual_seed(seed)\n",
        "    # 如果使用 GPU，也要設定 GPU 的隨機種子\n",
        "    if torch.cuda.is_available():\n",
        "        torch.cuda.manual_seed(seed) # 針對單張 GPU\n",
        "        torch.cuda.manual_seed_all(seed) # 針對多張 GPU，設定所有可見 GPU 上的種子\n",
        "    # 固定 NumPy 的隨機種子\n",
        "    np.random.seed(seed)\n",
        "    # 關閉 cuDNN 的 benchmark 模式\n",
        "    # cuDNN 是 NVIDIA 提供的深度學習加速函式庫，它的 benchmark 模式會根據輸入自動尋找最快的算法，但這樣會引入隨機性。\n",
        "    # 所以，關掉它可以讓你得到一致的結果\n",
        "    torch.backends.cudnn.benchmark = False\n",
        "    # 啟用 cuDNN 的「確定性模式」。\n",
        "    # 意思是：只使用會產生固定輸出的演算法，讓模型每次執行結果都一樣。\n",
        "    torch.backends.cudnn.deterministic = True"
      ],
      "execution_count": null,
      "outputs": []
    },
    {
      "cell_type": "markdown",
      "metadata": {
        "id": "KbBcBXkSp6RA"
      },
      "source": [
        "Feel free to change the training parameters here."
      ]
    },
    {
      "cell_type": "code",
      "metadata": {
        "id": "QTp3ZXg1yO9Y",
        "colab": {
          "base_uri": "https://localhost:8080/"
        },
        "outputId": "fca77a4d-8259-4de7-e692-34d64142b554"
      },
      "source": [
        "# fix random seed for reproducibility\n",
        "# 使用剛剛定義的設定隨機種子方法\n",
        "same_seeds(0)\n",
        "\n",
        "# get device，呼叫檢查運算裝置的方法\n",
        "device = get_device()\n",
        "print(f'DEVICE: {device}')\n",
        "\n",
        "# training parameters 設定訓練的超參數\n",
        "num_epoch = 23               # number of training epoch（完整看過一次訓練稱為一個 epoch）\n",
        "learning_rate = 0.0001       # learning rate（參數的更新幅度）\n",
        "\n",
        "# the path where checkpoint saved 設定路徑儲存訓練好的模型\n",
        "model_path = './model.ckpt'\n",
        "\n",
        "# create model, define a loss function, and optimizer\n",
        "# new 出一個剛剛定義的 Classifier 物件\n",
        "# 並呼叫 .to(device)，把資料/模型移動到指定的運算裝置上\n",
        "model = Classifier().to(device)\n",
        "# 定義 loss function，使用 CrossEntropyLoss\n",
        "# CrossEntropyLoss 是 PyTorch 提供的 class ，是 nn.Module 的子類別，所以此行是在 new 一個 CrossEntropyLoss 物件（實例化損失函數）\n",
        "criterion = nn.CrossEntropyLoss()\n",
        "# 定義最佳化器（找到讓 loss 最小的參數組合），使用 Adam\n",
        "# model.parameters() 表示要優化的是模型中的所有參數。\n",
        "optimizer = torch.optim.Adam(model.parameters(), lr=learning_rate, weight_decay = 1e-5)"
      ],
      "execution_count": null,
      "outputs": [
        {
          "output_type": "stream",
          "name": "stdout",
          "text": [
            "DEVICE: cuda\n"
          ]
        }
      ]
    },
    {
      "cell_type": "code",
      "metadata": {
        "id": "CdMWsBs7zzNs",
        "colab": {
          "base_uri": "https://localhost:8080/"
        },
        "outputId": "4c54c4b6-fc6c-47e8-a5fd-1741a4558b93"
      },
      "source": [
        "# start training\n",
        "\n",
        "# 紀錄 train_loss, val_loss 以便繪圖觀察\n",
        "train_loss_list = []\n",
        "val_loss_list = []\n",
        "\n",
        "# 初始化 best_acc，用於記錄目前為止驗證集上最高的 acc，以便選出最好的模型\n",
        "best_acc = 0.0\n",
        "# 訓練的主要 loop，共跑 epoch 次（所有訓練資料被完整看過 epoch 次）\n",
        "for epoch in range(num_epoch):\n",
        "    # 初始化每個 epoch 的訓練/驗證 acc & loss\n",
        "    train_acc = 0.0\n",
        "    train_loss = 0.0\n",
        "    val_acc = 0.0\n",
        "    val_loss = 0.0\n",
        "\n",
        "    # training\n",
        "    # .train() 是 nn.Module 提供的方法，能夠把 model 設為「訓練模式」，即會啟用 Dropout、Batch Normalization\n",
        "    # .train() 不是指開始訓練，而是切換狀態，表示該開啟 dropout 等等的準備工作\n",
        "    model.train() # set the model to training mode\n",
        "    # enumerate 會 走訪 train_loader，並 return (i, data)\n",
        "    # 透過 train_loader 一批批的取出訓練資料，一次取出一個 batch size 的量\n",
        "    for i, data in enumerate(train_loader):\n",
        "        # 解包出輸入與標籤，並將它們搬到 GPU 上\n",
        "        inputs, labels = data # data 包含 x & y\n",
        "        inputs, labels = inputs.to(device), labels.to(device)\n",
        "        # 清除前一次 backward 計算累積的梯度\n",
        "        optimizer.zero_grad()\n",
        "        # 把 input 喂給 model，並 assign 結果給 output 變數\n",
        "        # 這一行表面這樣的運行，但背後 PyTorch 實際執行的是：outputs = model.__call__(inputs)\n",
        "        # 因為 nn.Module 有內建一個 __call__() 方法，裡面定義了會去呼叫 forward() 函數的指令，故會正常 return output\n",
        "        outputs = model(inputs)\n",
        "        # 計算 loss\n",
        "        # CrossEntropyLoss 類別中有定義 __call__() 方法，會去呼叫 forward 來計算 loss，故可以於此處傳入參數\n",
        "        batch_loss = criterion(outputs, labels)\n",
        "        # torch.max(tensor, dim) 會在指定的 tensor 的指定的 dim 上找最大值，\n",
        "        # 若 dim=0，會是比較同一欄位（直的看），不常用於分類任務；若 dim=1，會是比較同一列（每個樣本的類別分數，橫的看），這才叫常用於分類任務\n",
        "        # 並 return 一個 tuple，包含(1)該 dim 維度上最大值的數值；(2)最大值的位置（index）\n",
        "        # 並把這個 tuple 含有的兩個值 assign 給 _ & train_pred，但因為我只在乎最大值的索引，也就是(2) ，因為(2)預測出的分類label是哪個，index 才是我想知道的分類結果\n",
        "        # 所以用「_」這個語法表示「我知道這裡有個值，但我不在意、不會用它。」，以此忽略(1)的最大值\n",
        "        # 如此 train_pred 裡面便是預測結果\n",
        "        _, train_pred = torch.max(outputs, 1) # get the index of the class with the highest probability\n",
        "        # 進行反向傳播 Backpropagation，計算每個參數的梯度\n",
        "        batch_loss.backward()\n",
        "        # 使用最佳化器更新參數\n",
        "        optimizer.step()\n",
        "        # 統計「預測正確的樣本數」，並加總到變數 train_acc 中（通常最後會除以總數得到準確率）。\n",
        "        # 要先把 train_pred 和 labels 移回 CPU 才能做後續運算\n",
        "        # train_pred.cpu() == labels.cpu() 會回傳一個布林 tensor，表示每一個預測是否正確\n",
        "        # .sum() 是把布林 tensor 轉為數字後相加，所以會是「預測正確的個數」\n",
        "        # .item() 把只有一個值的 tensor（剛剛加總的sum（）的結果）轉為 int 型態\n",
        "        # 在累加到 train_acc 中，計算預測總正確數量\n",
        "        train_acc += (train_pred.cpu() == labels.cpu()).sum().item()\n",
        "        # 累加每個 batch 的 loss，batch_loss 也是只有一個值的 tensor\n",
        "        train_loss += batch_loss.item()\n",
        "\n",
        "    # validation\n",
        "    if len(val_set) > 0: # 如果驗證集不為空就：\n",
        "        # 設為評估模式，會停用 dropout 和 batchnorm 的隨機行為\n",
        "        model.eval() # set the model to evaluation mode\n",
        "        # 驗證階段不用計算梯度\n",
        "        with torch.no_grad():\n",
        "            for i, data in enumerate(val_loader):\n",
        "                inputs, labels = data\n",
        "                inputs, labels = inputs.to(device), labels.to(device)\n",
        "                outputs = model(inputs)\n",
        "                batch_loss = criterion(outputs, labels)\n",
        "                # 取得預測類別\n",
        "                _, val_pred = torch.max(outputs, 1)\n",
        "\n",
        "                # 計算這 batch 的正確預測數，並加總進 val_acc\n",
        "                val_acc += (val_pred.cpu() == labels.cpu()).sum().item() # get the index of the class with the highest probability\n",
        "                val_loss += batch_loss.item()\n",
        "\n",
        "            # 印出訓練過程中某一個 epoch 的結果摘要（印出每一進度的狀況）\n",
        "            # 在每個 epoch 結束時，向使用者顯示訓練與驗證的準確率與損失，方便監控模型訓練狀況。\n",
        "            #print('[{:03d}/{:03d}] Train Acc: {:3.6f} Loss: {:3.6f} | Val Acc: {:3.6f} loss: {:3.6f}'.format(\n",
        "            #    epoch + 1, num_epoch, train_acc/len(train_set), train_loss/len(train_loader), val_acc/len(val_set), val_loss/len(val_loader)\n",
        "            #))\n",
        "            # f-string 版本\n",
        "            print(f\"[{epoch + 1:03d}/{num_epoch:03d}] \"\n",
        "                  f\"Train Acc: {(train_acc / len(train_set)):.6f} \"\n",
        "                  f\"Loss: {(train_loss / len(train_loader)):.6f} | \"\n",
        "                  f\"Val Acc: {(val_acc / len(val_set)):.6f} \"\n",
        "                  f\"loss: {(val_loss / len(val_loader)):.6f}\" )\n",
        "\n",
        "            ##### 自己加的，用來繪製 loss 變化趨勢用\n",
        "            # 把每次 epoch 算出的 loss 紀錄到 list 中\n",
        "            train_loss_list.append(train_loss / len(train_loader))\n",
        "            if len(val_set) > 0:\n",
        "              val_loss_list.append(val_loss / len(val_loader))\n",
        "            #####\n",
        "\n",
        "            # if the model improves, save a checkpoint at this epoch\n",
        "            # 如果目前驗證準確率，比歷史最高還好，那就更新 best_acc\n",
        "            if val_acc > best_acc:\n",
        "                best_acc = val_acc\n",
        "                # 儲存模型的參數\n",
        "                # model.state_dict() 可以獲取 model 的參數，接下來用 torch.save() 儲存\n",
        "                # model_path 是儲存 model 參數的路徑\n",
        "                torch.save(model.state_dict(), model_path)\n",
        "                print('saving model with acc {:.3f}'.format(best_acc/len(val_set)))\n",
        "\n",
        "    # 若沒有驗證集（調完參數後，最後一次把所有資料全部都給訓練階段時）\n",
        "    else:\n",
        "        print('[{:03d}/{:03d}] Train Acc: {:3.6f} Loss: {:3.6f}'.format(\n",
        "            epoch + 1, num_epoch, train_acc/len(train_set), train_loss/len(train_loader)\n",
        "        ))\n",
        "\n",
        "# if not validating, save the last epoch\n",
        "# 如果沒有驗證階段，在最後一個 epoch 儲存模型\n",
        "if len(val_set) == 0:\n",
        "    torch.save(model.state_dict(), model_path)\n",
        "    print('saving model at last epoch')\n"
      ],
      "execution_count": null,
      "outputs": [
        {
          "output_type": "stream",
          "name": "stdout",
          "text": [
            "[001/023] Train Acc: 0.506187 Loss: 1.700141 | Val Acc: 0.644981 loss: 1.169572\n",
            "saving model with acc 0.645\n",
            "[002/023] Train Acc: 0.571189 Loss: 1.426597 | Val Acc: 0.669702 loss: 1.069938\n",
            "saving model with acc 0.670\n",
            "[003/023] Train Acc: 0.590855 Loss: 1.352658 | Val Acc: 0.680113 loss: 1.027705\n",
            "saving model with acc 0.680\n",
            "[004/023] Train Acc: 0.602254 Loss: 1.308939 | Val Acc: 0.686971 loss: 1.000002\n",
            "saving model with acc 0.687\n",
            "[005/023] Train Acc: 0.611245 Loss: 1.276982 | Val Acc: 0.691939 loss: 0.980909\n",
            "saving model with acc 0.692\n",
            "[006/023] Train Acc: 0.616695 Loss: 1.254905 | Val Acc: 0.697061 loss: 0.961880\n",
            "saving model with acc 0.697\n",
            "[007/023] Train Acc: 0.622351 Loss: 1.236758 | Val Acc: 0.700704 loss: 0.943487\n",
            "saving model with acc 0.701\n",
            "[008/023] Train Acc: 0.626083 Loss: 1.223065 | Val Acc: 0.703301 loss: 0.934373\n",
            "saving model with acc 0.703\n",
            "[009/023] Train Acc: 0.629619 Loss: 1.210849 | Val Acc: 0.703932 loss: 0.934040\n",
            "saving model with acc 0.704\n",
            "[010/023] Train Acc: 0.631882 Loss: 1.202397 | Val Acc: 0.707184 loss: 0.916455\n",
            "saving model with acc 0.707\n",
            "[011/023] Train Acc: 0.634657 Loss: 1.193832 | Val Acc: 0.708554 loss: 0.914314\n",
            "saving model with acc 0.709\n",
            "[012/023] Train Acc: 0.636422 Loss: 1.185700 | Val Acc: 0.710038 loss: 0.907772\n",
            "saving model with acc 0.710\n",
            "[013/023] Train Acc: 0.638127 Loss: 1.179702 | Val Acc: 0.711871 loss: 0.904514\n",
            "saving model with acc 0.712\n",
            "[014/023] Train Acc: 0.639652 Loss: 1.172524 | Val Acc: 0.712493 loss: 0.901019\n",
            "saving model with acc 0.712\n",
            "[015/023] Train Acc: 0.641365 Loss: 1.169277 | Val Acc: 0.712432 loss: 0.897798\n",
            "[016/023] Train Acc: 0.642831 Loss: 1.163030 | Val Acc: 0.713729 loss: 0.891578\n",
            "saving model with acc 0.714\n",
            "[017/023] Train Acc: 0.643971 Loss: 1.159181 | Val Acc: 0.715213 loss: 0.888162\n",
            "saving model with acc 0.715\n",
            "[018/023] Train Acc: 0.645176 Loss: 1.155305 | Val Acc: 0.716469 loss: 0.882260\n",
            "saving model with acc 0.716\n",
            "[019/023] Train Acc: 0.645904 Loss: 1.150358 | Val Acc: 0.718676 loss: 0.881579\n",
            "saving model with acc 0.719\n",
            "[020/023] Train Acc: 0.647261 Loss: 1.146806 | Val Acc: 0.717900 loss: 0.878729\n",
            "[021/023] Train Acc: 0.647336 Loss: 1.143370 | Val Acc: 0.718599 loss: 0.876072\n",
            "[022/023] Train Acc: 0.648281 Loss: 1.142899 | Val Acc: 0.717855 loss: 0.878397\n",
            "[023/023] Train Acc: 0.648343 Loss: 1.140587 | Val Acc: 0.718562 loss: 0.873115\n"
          ]
        }
      ]
    },
    {
      "cell_type": "markdown",
      "source": [
        "用 matplotlib 繪製 train_loss, val_loss 趨勢圖以便觀察"
      ],
      "metadata": {
        "id": "XoMFYu8nRQon"
      }
    },
    {
      "cell_type": "code",
      "source": [
        "import matplotlib.pyplot as plt\n",
        "\n",
        "plt.figure(figsize=(8,5))\n",
        "plt.plot(range(1, num_epoch+1), train_loss_list, label='Train Loss')\n",
        "if len(val_loss_list) > 0:\n",
        "    plt.plot(range(1, num_epoch+1), val_loss_list, label='Validation Loss')\n",
        "plt.xlabel('Epoch')\n",
        "plt.ylabel('Loss')\n",
        "plt.title('Train and Validation Loss Over Epochs')\n",
        "plt.legend()\n",
        "plt.grid(True)\n",
        "plt.show()"
      ],
      "metadata": {
        "id": "nDGzqJXGRMn_",
        "colab": {
          "base_uri": "https://localhost:8080/",
          "height": 487
        },
        "outputId": "01c6ea1d-3631-4c10-de7b-38781539efd2"
      },
      "execution_count": null,
      "outputs": [
        {
          "output_type": "display_data",
          "data": {
            "text/plain": [
              "<Figure size 800x500 with 1 Axes>"
            ],
            "image/png": "[encoded data removed]"
          },
          "metadata": {}
        }
      ]
    },
    {
      "cell_type": "markdown",
      "metadata": {
        "id": "1Hi7jTn3PX-m"
      },
      "source": [
        "## Testing"
      ]
    },
    {
      "cell_type": "markdown",
      "metadata": {
        "id": "NfUECMFCn5VG"
      },
      "source": [
        "Create a testing dataset, and load model from the saved checkpoint."
      ]
    },
    {
      "cell_type": "code",
      "metadata": {
        "id": "1PKjtAScPWtr",
        "colab": {
          "base_uri": "https://localhost:8080/"
        },
        "outputId": "1cb2e43e-eda3-4b1c-bd5a-2ea4d330c0bf"
      },
      "source": [
        "# create testing dataset\n",
        "# 創建測試資料集，所以沒有標籤(y)\n",
        "test_set = TIMITDataset(test, None)\n",
        "test_loader = DataLoader(test_set, batch_size=BATCH_SIZE, shuffle=False)\n",
        "\n",
        "# create model and load weights from checkpoint\n",
        "# new model 物件\n",
        "model = Classifier().to(device)\n",
        "# 載入剛剛訓練好的 model 參數\n",
        "# torch.load(檔案路徑) 可以載入保存的資料，和 torch.save() 配對使用\n",
        "# .load_state_dict(state_dict) 則用來把參數資料載入到 model，讓 model 獲得訓練的參數\n",
        "model.load_state_dict(torch.load(model_path))"
      ],
      "execution_count": null,
      "outputs": [
        {
          "output_type": "execute_result",
          "data": {
            "text/plain": [
              "<All keys matched successfully>"
            ]
          },
          "metadata": {},
          "execution_count": 13
        }
      ]
    },
    {
      "cell_type": "markdown",
      "metadata": {
        "id": "940TtCCdoYd0"
      },
      "source": [
        "Make prediction."
      ]
    },
    {
      "cell_type": "code",
      "metadata": {
        "id": "84HU5GGjPqR0"
      },
      "source": [
        "predict = [] # 儲存測試階段預測結果\n",
        "model.eval() # set the model to evaluation mode（模型在測試時的行為一致性）\n",
        "# 在此 block 內停用梯度計算（節省記憶體和計算資源、測試階段不需要反向傳播，所以不需要梯度）\n",
        "with torch.no_grad():\n",
        "    # 遍歷測試資料(test_loader)\n",
        "    for i, data in enumerate(test_loader):\n",
        "        # 同樣解包測試資料並移動到 GPU 去\n",
        "        inputs = data\n",
        "        inputs = inputs.to(device)\n",
        "        # 將輸入資料傳入模型進行前向傳播\n",
        "        outputs = model(inputs)\n",
        "        # 取得預測結果（同樣也只需要最大值的 index -> 即分類的類別標籤即可）\n",
        "        _, test_pred = torch.max(outputs, 1) # get the index of the class with the highest probability\n",
        "\n",
        "        # 儲存預測結果\n",
        "        # 把測試結果移動到 cpu，再轉成 numpy 型態陣列（因為 NumPy 只支援 CPU tensor）\n",
        "        for y in test_pred.cpu().numpy():\n",
        "            # 逐項加入到 predict 中\n",
        "            predict.append(y)"
      ],
      "execution_count": null,
      "outputs": []
    },
    {
      "cell_type": "markdown",
      "metadata": {
        "id": "AWDf_C-omElb"
      },
      "source": [
        "Write prediction to a CSV file.\n",
        "\n",
        "After finish running this block, download the file `prediction.csv` from the files section on the left-hand side and submit it to Kaggle."
      ]
    },
    {
      "cell_type": "code",
      "metadata": {
        "id": "GuljYSPHcZir"
      },
      "source": [
        "# 使用 with 語句開啟檔案，確保檔案會被正確關閉（不用手動，所以不用寫 f.close()）\n",
        "# 以「寫入模式 ('w')」打開一個名為 prediction.csv 的檔案\n",
        "# 如果該檔案已存在，會清空內容重新寫入；若不存在，則會建立一個新檔案\n",
        "with open('prediction.csv', 'w') as f: # 把檔案物件指派給 f 變數\n",
        "    # 寫入 csv 檔案的 header，分別是Id, Class\n",
        "    f.write('Id,Class\\n')\n",
        "    # 用 i 表示 index, y 表示預測結果 來遍歷剛剛得出的 testing 結果\n",
        "    for i, y in enumerate(predict):\n",
        "        # 使用寫入功能寫入遍歷的資料\n",
        "        #  str.format() 方法格式化字串\n",
        "        # {},{}：兩個佔位符，分別對應 i 和 y。並且每行結束後換行\n",
        "        f.write('{},{}\\n'.format(i, y))\n",
        "        # 另外這行也可以不要用 format ，改用 f-string 的話如下所示\n",
        "        # f.write(f\"{i}, {y}\\n\")"
      ],
      "execution_count": null,
      "outputs": []
    }
  ]
}